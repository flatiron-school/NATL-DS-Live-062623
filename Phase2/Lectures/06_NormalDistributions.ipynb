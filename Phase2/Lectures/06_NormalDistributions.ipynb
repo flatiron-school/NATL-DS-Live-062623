{
 "cells": [
  {
   "cell_type": "markdown",
   "metadata": {
    "heading_collapsed": true
   },
   "source": [
    "# Objectives"
   ]
  },
  {
   "cell_type": "markdown",
   "metadata": {
    "hidden": true
   },
   "source": [
    "* Describe the normal distribution's Empirical Rule\n",
    "* Calculate $z$-scores from a normal distribution through standardization\n",
    "* Define the Central Limit Theorem\n"
   ]
  },
  {
   "cell_type": "code",
   "execution_count": 1,
   "metadata": {
    "hidden": true
   },
   "outputs": [],
   "source": [
    "# Imports!\n",
    "from scipy import stats\n",
    "\n",
    "import matplotlib.pyplot as plt\n",
    "%matplotlib inline\n",
    "import seaborn as sns\n",
    "\n",
    "import pandas as pd\n",
    "import numpy as np"
   ]
  },
  {
   "cell_type": "markdown",
   "metadata": {
    "heading_collapsed": true
   },
   "source": [
    "# Normal Distribution"
   ]
  },
  {
   "cell_type": "markdown",
   "metadata": {
    "hidden": true
   },
   "source": [
    "We'll find that the **normal distribution** or **normal curve** or **bell curve** (it has many names) is a very common distribution and it's very useful to us in statistics."
   ]
  },
  {
   "cell_type": "markdown",
   "metadata": {
    "hidden": true
   },
   "source": [
    "![](images/normal_curve_animation.gif)"
   ]
  },
  {
   "cell_type": "markdown",
   "metadata": {
    "heading_collapsed": true,
    "hidden": true
   },
   "source": [
    "## Why a Normal Distribution?"
   ]
  },
  {
   "cell_type": "markdown",
   "metadata": {
    "hidden": true
   },
   "source": [
    "Turns out the normal distribution describes many phenomena. Think of anything that has a typical range:\n",
    "\n",
    "- human body temperatures\n",
    "- sizes of elephants\n",
    "- sizes of stars\n",
    "- populations of cities\n",
    "- IQ\n",
    "- heart rate"
   ]
  },
  {
   "cell_type": "markdown",
   "metadata": {
    "hidden": true
   },
   "source": [
    "Among human beings, 98.6 degrees Fahrenheit is an _average_ body temperature. Many folks' temperatures won't measure _exactly_ 98.6 degrees, but most measurements will be _close_. It is much more common to have a body temperature close to 98.6 (whether slightly more or slightly less) than it is to have a body temperature far from 98.6 (whether significantly more or significantly less). This is a hallmark of a normally distributed variable."
   ]
  },
  {
   "cell_type": "code",
   "execution_count": 2,
   "metadata": {
    "hidden": true
   },
   "outputs": [
    {
     "data": {
      "image/png": "[encoded data removed]",
      "text/plain": [
       "<Figure size 432x288 with 1 Axes>"
      ]
     },
     "metadata": {
      "needs_background": "light"
     },
     "output_type": "display_data"
    }
   ],
   "source": [
    "# Visualize it\n",
    "fig, ax = plt.subplots()\n",
    "\n",
    "mu = 0\n",
    "sigma = 1\n",
    "# This defines the points along the x-axis\n",
    "x = np.linspace(\n",
    "        stats.norm(mu,sigma).ppf(0.01), # Start plotting here\n",
    "        stats.norm(mu,sigma).ppf(0.99), # End plotting here\n",
    "        100                             # Number of points\n",
    ")\n",
    "# The values as at x given by the normal curve (with mu & sigma)\n",
    "y = stats.norm(mu,sigma).pdf(x)\n",
    "ax.plot(x, y,'r-');"
   ]
  },
  {
   "cell_type": "markdown",
   "metadata": {},
   "source": [
    "The Standard Normal Distribution, also known as a Gaussian distribution, is special not only because it shows up EVERYWHERE but also because it's symmetric (mean == median == mode)"
   ]
  },
  {
   "cell_type": "markdown",
   "metadata": {
    "hidden": true
   },
   "source": [
    "### Normal Curve\n",
    "\n",
    "If you're curious about how we can mathematically define a normal curve, we give this below. (Don't worry, you don't need to recall the mathematical definition).\n",
    "\n",
    "<details>\n",
    "\n",
    "$\\Large f(x) = \\frac{1}{\\sqrt{2\\pi\\sigma^2}}e^{\\frac{-(x - \\mu)^2}{2\\sigma^2}}$\n",
    "    \n",
    "This might look complicated at first, but it means that the we describe a normal curve with just **two parameters**: $\\sigma^2$ (the variance) & $\\mu$ (the mean). You may see the notation $N(\\mu, \\sigma^2)$ which emphasizes there are only two parameters to describe the distribution.\n",
    "</details>"
   ]
  },
  {
   "cell_type": "markdown",
   "metadata": {
    "hidden": true
   },
   "source": [
    "\n"
   ]
  },
  {
   "cell_type": "markdown",
   "metadata": {
    "heading_collapsed": true,
    "hidden": true
   },
   "source": [
    "## *Standard* Normal Distribution"
   ]
  },
  {
   "cell_type": "markdown",
   "metadata": {
    "hidden": true
   },
   "source": [
    "A special normal distribution called the **standard normal distribution** has a mean of 0 and variance of 1. This is also known as a **z distribution**."
   ]
  },
  {
   "cell_type": "markdown",
   "metadata": {
    "hidden": true
   },
   "source": [
    "Since we know that the shape of a normal distribution changes based on its mean and variance, we'll typically convert or **standardize** our normal distribution to the standard normal distribution."
   ]
  },
  {
   "cell_type": "markdown",
   "metadata": {
    "hidden": true
   },
   "source": [
    "We simply subtract the mean $\\mu$ from each value and then divide by the standard deviation $\\sigma$:\n",
    "\n",
    "$$\\frac{x - \\mu}{\\sigma}$$\n",
    "\n",
    "We call this process **standardization**."
   ]
  },
  {
   "cell_type": "markdown",
   "metadata": {
    "hidden": true
   },
   "source": [
    "![norm_to_z](images/norm_to_z.png)"
   ]
  },
  {
   "cell_type": "code",
   "execution_count": 3,
   "metadata": {
    "hidden": true,
    "scrolled": false
   },
   "outputs": [
    {
     "data": {
      "text/plain": [
       "4.8802257452286595"
      ]
     },
     "execution_count": 3,
     "metadata": {},
     "output_type": "execute_result"
    }
   ],
   "source": [
    "# Let's transform the normal distribution centered on 5\n",
    "# with a standard deviation of 2 into a standard normal\n",
    "\n",
    "# Generating our data\n",
    "# stats.norm.rvs()\n",
    "normal_dist = np.random.normal(loc=5, scale=2, size=1000)\n",
    "\n",
    "np.mean(normal_dist)"
   ]
  },
  {
   "cell_type": "code",
   "execution_count": 5,
   "metadata": {},
   "outputs": [
    {
     "data": {
      "text/plain": [
       "array([ 8.81640825e+00,  7.21970159e+00,  6.81151877e+00,  8.26625253e+00,\n",
       "        6.75237031e+00,  8.01902603e+00,  4.67357878e+00,  6.67607669e+00,\n",
       "        1.93866730e+00,  8.18512970e+00,  4.41130501e+00,  8.43963721e+00,\n",
       "        7.14403828e+00,  8.92275736e+00,  2.63721137e+00,  7.79674741e+00,\n",
       "        5.48697103e+00,  1.62997044e+00,  5.03137703e+00,  6.35934028e+00,\n",
       "        4.99365993e+00,  5.80900978e+00,  4.42057165e+00,  6.62749592e+00,\n",
       "        7.90421401e+00,  5.50433595e+00,  4.86939586e+00,  7.23935932e+00,\n",
       "        5.60613198e+00,  4.60689420e+00,  6.85126742e+00,  5.07711416e+00,\n",
       "        4.49539115e+00,  2.49812667e+00,  6.43809010e+00,  6.68568451e+00,\n",
       "        5.61395816e+00,  3.15139960e+00,  4.66686325e+00,  2.83531209e+00,\n",
       "        7.30147439e+00,  2.32419214e+00,  5.21828565e+00,  5.91384794e+00,\n",
       "        5.64350286e+00,  8.54812228e+00,  5.64340600e+00,  7.98608455e+00,\n",
       "        6.24926544e+00,  5.52372683e+00,  6.32630148e+00,  4.41500795e+00,\n",
       "        3.14210868e+00,  5.54404661e+00,  1.91040787e+00,  5.02610109e+00,\n",
       "        4.37468904e+00,  5.89474244e+00,  7.16505973e+00,  5.00064998e+00,\n",
       "        5.76463943e+00,  1.18291894e+00,  4.24087026e+00,  4.15615627e+00,\n",
       "        4.15829932e+00,  6.04862185e+00,  5.43916902e+00,  2.44392018e+00,\n",
       "        3.66623789e+00,  3.08049359e+00,  8.51411293e+00,  6.00862760e+00,\n",
       "        6.39574446e+00,  4.45932146e+00,  4.48615113e+00,  5.89734295e+00,\n",
       "        2.40957033e+00,  5.97856040e+00,  9.71765333e-01,  6.23066538e+00,\n",
       "        4.89214714e+00,  2.65387040e+00,  3.96497147e+00,  1.80545161e+00,\n",
       "        6.28604918e+00,  4.49546594e+00,  7.41353875e+00,  6.35736840e+00,\n",
       "        5.71867673e+00,  4.78234046e+00,  5.46889434e+00,  3.72300731e+00,\n",
       "        5.84320901e+00,  8.84197865e+00,  9.86097767e+00,  7.53344156e+00,\n",
       "        5.26636384e+00,  7.51593775e+00,  1.49332387e+00,  8.67279039e+00,\n",
       "        3.13431205e+00,  4.61938227e+00,  8.23486189e-01,  5.43922498e+00,\n",
       "        9.14689643e-01,  5.72884924e+00,  6.02527787e-01,  5.68117855e+00,\n",
       "        5.87328438e+00,  4.61629783e+00,  6.95094802e+00,  6.31606231e+00,\n",
       "        3.53140097e+00,  3.46539063e+00,  6.36145870e+00,  6.31607793e+00,\n",
       "        7.19207035e+00,  7.34533110e+00,  7.40625902e-03,  6.22253745e+00,\n",
       "        4.61761543e+00,  5.25682267e+00,  6.96366542e+00,  8.27676560e+00,\n",
       "        3.17377779e+00,  5.25340390e+00,  4.50836692e+00,  5.77631723e+00,\n",
       "        7.58526132e+00,  6.76049569e+00,  4.33848846e+00,  2.89408395e+00,\n",
       "        6.12600808e+00,  5.11392849e+00,  2.75684946e+00,  1.74521436e+00,\n",
       "        6.97618951e+00,  5.11155360e+00,  1.86476511e+00,  5.21141982e+00,\n",
       "        5.30097464e+00,  2.38332383e+00,  5.23830357e+00,  4.02062332e+00,\n",
       "        4.37643338e+00,  1.28345649e+00,  7.17341370e+00,  4.56148290e+00,\n",
       "        1.38423915e+00,  6.43621339e+00,  7.54265287e+00,  5.56579921e+00,\n",
       "        6.43123623e+00,  3.95421749e+00,  8.26670568e+00,  5.21108050e+00,\n",
       "        5.77630315e+00,  3.39284132e+00,  4.24794387e+00,  2.55398000e+00,\n",
       "        2.56695922e+00,  2.79452833e+00,  6.93254631e+00,  5.45244397e+00,\n",
       "        6.96053800e+00,  1.60184231e+00,  4.50320928e+00,  7.52498542e+00,\n",
       "        7.99241400e+00,  4.33958642e+00,  4.67217198e+00,  5.72604095e+00,\n",
       "        3.69143653e+00,  2.38552090e+00,  1.78566443e+00,  1.81886886e+00,\n",
       "        7.86283314e+00,  7.07451781e+00,  7.25536826e+00,  6.59229348e+00,\n",
       "        6.40858793e+00,  5.75697222e+00,  4.20651993e+00,  4.05126035e+00,\n",
       "        5.11200547e+00,  6.37156191e+00,  4.16898365e+00,  4.32855591e+00,\n",
       "        4.66636101e+00,  6.21908853e+00,  5.84936672e+00,  5.54567848e+00,\n",
       "        1.23614423e+00,  3.74546959e+00,  3.24479629e+00,  8.81176296e+00,\n",
       "        5.77582653e+00,  1.19776771e+00,  3.63198691e+00,  4.58146585e+00,\n",
       "        3.36172838e+00,  4.31277027e+00,  4.39776673e+00,  4.67559195e+00,\n",
       "        3.94597562e+00,  2.69570033e+00,  2.62334691e+00,  3.57278994e+00,\n",
       "        6.71604551e+00,  6.43373937e+00,  2.81892917e+00,  4.75385743e+00,\n",
       "       -2.06298907e-02,  3.78594138e+00,  7.21034599e+00,  5.07688260e+00,\n",
       "        3.45685643e+00,  1.97861682e+00,  1.69090760e+00,  5.97893027e+00,\n",
       "        4.39009742e+00,  3.03321895e+00,  5.10246286e+00,  4.11212573e+00,\n",
       "        6.48452920e+00,  6.54797472e+00,  5.41211490e+00,  7.28925734e+00,\n",
       "        4.94499329e+00,  3.10999480e+00,  9.70570067e+00,  3.62566798e+00,\n",
       "        3.00660864e+00,  1.04112153e+01,  3.07321937e+00,  2.06777908e+00,\n",
       "        6.48351975e+00,  6.10845545e+00,  5.36811501e+00,  4.00402396e+00,\n",
       "        3.98313365e+00,  5.13104075e+00,  7.25434758e+00,  4.51513331e+00,\n",
       "        6.57715003e+00,  4.31086060e+00,  9.57306391e+00,  2.34663409e+00,\n",
       "        3.76915143e+00,  7.20016858e+00,  3.27465944e+00,  7.29890931e+00,\n",
       "        7.99740358e-01,  2.41076602e+00,  8.33106000e+00,  6.51805807e+00,\n",
       "        5.57152059e+00,  4.95005110e+00,  3.85545583e+00,  3.56737650e+00,\n",
       "        3.43264960e+00,  4.17218814e+00,  4.77236193e+00,  7.40674942e+00,\n",
       "        4.29853620e+00,  3.78391819e+00,  5.61887132e+00,  4.47471198e+00,\n",
       "        5.58439436e+00,  6.53543044e+00,  2.61741119e+00,  4.98168332e+00,\n",
       "        5.76487250e+00,  3.01795815e+00,  6.72630477e+00,  6.38389554e+00,\n",
       "        1.03747338e+00,  5.54362239e+00,  2.43643747e+00,  5.28868572e+00,\n",
       "        5.63038445e+00,  7.97180909e+00,  5.58836689e+00,  3.14388145e+00,\n",
       "        3.41581195e+00,  6.82694607e+00,  5.60883890e+00,  4.66732374e+00,\n",
       "        7.85499143e+00,  3.20251559e+00,  2.86118286e+00,  7.83836978e+00,\n",
       "        1.58347668e+00,  2.48665922e+00,  8.80814352e+00,  7.01804856e+00,\n",
       "        6.38622971e+00,  4.74691156e+00,  6.45727387e+00,  5.52453121e+00,\n",
       "        4.65277708e+00,  4.99394069e+00,  5.11195542e+00,  3.90035021e+00,\n",
       "        4.52228736e+00,  4.39673621e+00,  5.16741223e+00,  5.05434110e+00,\n",
       "        4.11814594e+00,  5.02532523e+00,  5.65840825e+00,  5.09592782e+00,\n",
       "        5.85864739e+00,  1.77620112e+00,  5.97248993e+00,  5.19400397e+00,\n",
       "        6.11975163e+00,  7.77063819e+00,  4.55328187e+00,  4.59865212e+00,\n",
       "        1.97132430e+00,  4.16595599e+00,  9.11789748e+00,  4.94837680e+00,\n",
       "        5.07066625e+00,  4.22626361e+00,  5.84181045e+00,  4.03027765e+00,\n",
       "        3.09187785e+00,  6.53557799e+00,  3.55119160e+00,  6.10051306e+00,\n",
       "        8.82969931e+00,  6.47440039e+00,  4.88186945e+00,  4.69872178e+00,\n",
       "        3.73252092e+00,  1.61280175e+00,  9.37409369e+00,  3.19543210e+00,\n",
       "        4.91958908e+00,  5.33456125e+00,  4.86663644e+00,  7.90978281e+00,\n",
       "        3.69251397e+00,  4.57163207e+00,  4.45643838e+00,  6.82267866e+00,\n",
       "        5.58263679e+00,  7.60662483e+00,  6.82384915e+00,  5.51130249e+00,\n",
       "        5.45717953e+00,  7.11009157e+00,  5.66870533e+00,  4.04782649e+00,\n",
       "        3.43628145e+00,  5.43526768e+00,  7.00798660e+00,  1.90299549e+00,\n",
       "        9.53835425e+00,  2.03142357e+00,  1.34707890e+00,  5.34148675e+00,\n",
       "        2.60612311e+00,  4.36954727e+00,  4.01383935e+00,  8.21002531e+00,\n",
       "        3.38252612e+00,  3.22985768e+00,  5.29588609e+00,  6.11629393e+00,\n",
       "        6.92706609e+00,  7.12761403e+00,  3.43260636e+00,  2.31327396e+00,\n",
       "        3.69244032e+00,  6.07503521e+00,  2.11038920e+00,  2.32456915e+00,\n",
       "        2.37946247e+00,  1.14787126e+00,  4.38403990e-01,  5.67673941e+00,\n",
       "        7.11697623e+00,  6.03530874e+00,  4.45357783e+00,  7.05974324e+00,\n",
       "        6.95314039e+00,  2.25836174e+00,  1.75012804e+00,  4.35797733e+00,\n",
       "        6.15940279e+00,  9.19235413e+00,  2.92618374e+00,  5.26175777e+00,\n",
       "        6.33991718e+00,  3.87517374e+00,  5.79312776e+00,  3.87989170e+00,\n",
       "        3.35178461e+00,  7.69683655e+00,  4.75562241e+00,  5.68172897e+00,\n",
       "        7.46386667e+00,  7.12390981e+00,  4.62765981e+00,  6.61876957e+00,\n",
       "        8.36878641e+00,  5.40137306e+00,  6.94770841e+00,  7.19334896e+00,\n",
       "        2.27227511e+00,  4.07321142e+00,  3.10358861e+00,  7.39003748e-01,\n",
       "        2.24203524e+00,  6.82290561e+00,  3.68774746e+00,  5.83249868e+00,\n",
       "        3.85133704e+00,  5.65390101e+00,  4.32387138e+00,  9.24481632e+00,\n",
       "        3.93587731e+00,  4.18912802e+00,  8.54090494e+00,  5.59495052e+00,\n",
       "        3.55563019e+00,  4.06605261e+00,  3.04352977e+00,  7.49653134e+00,\n",
       "        3.48464847e+00,  5.67279664e+00,  5.42484686e+00,  4.62861041e+00,\n",
       "        7.09313723e+00,  9.32821563e+00,  1.01828120e+00,  5.54503971e+00,\n",
       "        4.77162788e+00,  5.76435850e+00,  5.62579016e+00,  6.29575658e-01,\n",
       "        3.90227779e+00,  4.67153952e+00,  8.69244982e+00,  3.34173862e+00,\n",
       "        4.89795279e+00,  3.39240717e+00,  3.51704321e+00,  4.17496119e+00,\n",
       "        2.05643284e+00,  5.65098718e+00,  7.17262155e+00,  3.80297266e+00,\n",
       "        8.91299364e+00,  6.76365029e+00,  4.32034515e+00,  4.26002383e+00,\n",
       "        3.88240915e+00,  5.92816041e+00,  5.37032974e+00,  5.55915666e+00,\n",
       "        2.83176848e+00,  4.13280562e+00,  9.14414220e+00,  4.50451490e+00,\n",
       "        4.96380440e+00,  5.61485818e+00,  4.01266190e+00,  3.42667550e+00,\n",
       "        6.66422465e+00,  5.89870915e+00,  3.61469383e+00,  8.40597169e+00,\n",
       "        7.39238211e+00,  6.42257227e+00,  2.46405438e+00,  3.83565994e+00,\n",
       "        3.06061079e+00,  6.88307036e+00,  6.54764207e+00, -4.37193332e-01,\n",
       "        3.30413315e+00,  3.79693280e+00,  3.46363167e+00,  5.10879870e+00,\n",
       "        6.35132257e+00,  1.36954996e+00,  3.72011858e+00,  7.16582705e+00,\n",
       "        4.86974786e+00,  2.79699599e+00,  7.89262622e+00,  4.62932018e+00,\n",
       "        3.72546748e+00,  6.44229964e+00,  6.49358420e+00,  4.82624949e+00,\n",
       "        6.55322786e+00,  7.70972270e-01,  8.77155586e+00,  7.78224676e+00,\n",
       "        4.38035730e+00,  7.28486253e-01,  5.06792006e+00,  2.46151288e+00,\n",
       "        9.51626331e+00,  5.71279547e+00,  3.43917473e+00,  3.80959291e+00,\n",
       "        3.46336521e+00,  5.29230860e+00,  3.78092482e+00,  3.44651627e+00,\n",
       "        2.35252515e+00,  3.53285009e+00,  5.08808112e+00,  5.97516446e+00,\n",
       "        6.13850964e+00,  3.83762553e+00,  6.19844009e+00,  9.19971890e+00,\n",
       "        1.88698586e+00,  7.36716628e+00,  6.98126185e+00,  4.37674559e+00,\n",
       "        1.75211452e+00,  7.52630287e+00,  9.40294087e+00,  3.90349564e+00,\n",
       "        7.38414064e+00,  7.70579435e+00,  6.37403979e+00,  6.97664156e+00,\n",
       "        7.32075289e+00,  5.63509647e+00,  5.34342535e+00,  6.62062513e+00,\n",
       "        5.10269954e+00,  5.64098638e+00,  3.86212870e+00,  4.24407705e+00,\n",
       "        7.05667850e+00,  7.87308701e+00,  5.46801236e+00,  4.58296646e+00,\n",
       "        5.50509576e+00,  3.45646294e+00,  3.93901127e+00,  5.57914408e+00,\n",
       "        8.42634569e+00,  4.65961356e+00,  5.84406659e+00,  5.01295717e+00,\n",
       "        3.90630499e+00,  5.44626376e+00,  4.54121018e+00,  2.50359840e+00,\n",
       "        5.11284320e+00,  1.12492794e+00,  2.70794964e+00,  6.18933328e+00,\n",
       "        6.06275808e+00,  5.43615864e+00,  4.32172681e+00,  5.02301606e+00,\n",
       "        5.92841639e+00,  7.88860343e-01,  8.23757159e+00,  8.43276588e+00,\n",
       "        7.52103237e+00,  3.96548544e+00,  3.10940251e+00,  5.79664166e+00,\n",
       "        3.99360299e+00,  6.87018083e+00,  5.53632073e+00,  6.86315822e+00,\n",
       "        5.92252546e+00,  1.16639244e+00,  4.79008513e+00,  6.01039858e+00,\n",
       "       -2.46580799e-01,  5.02756944e+00,  2.45273502e+00,  2.78438501e+00,\n",
       "        3.96245940e+00,  6.45428363e+00,  5.46622649e+00,  4.83968164e+00,\n",
       "        8.15416992e+00,  6.14827874e+00,  5.41236399e+00,  4.79185996e+00,\n",
       "        5.84562393e+00,  3.86236532e+00,  7.37197284e+00,  8.65914329e+00,\n",
       "        4.66496250e+00,  6.76789211e+00,  7.47888831e+00,  9.75440449e-01,\n",
       "        5.51670747e+00,  4.52567946e+00,  6.75477425e+00,  5.16209846e+00,\n",
       "        5.54933143e+00,  5.11911865e+00,  4.33530369e+00,  6.70755234e+00,\n",
       "        4.78233813e+00,  6.56539283e+00,  5.62078301e+00,  6.18488937e+00,\n",
       "        2.42257031e+00,  4.58428222e+00,  6.35460551e+00,  2.82793150e+00,\n",
       "        1.77878387e+00,  6.66792188e+00,  1.70759829e+00,  5.11257560e+00,\n",
       "        6.95625696e+00,  7.96192324e+00,  4.05895068e+00,  7.46826694e+00,\n",
       "        6.87637092e+00,  5.08554510e+00,  3.37479382e+00,  6.59557846e+00,\n",
       "        3.01108100e+00,  5.32777684e+00,  3.40388341e+00,  5.42697557e+00,\n",
       "        5.63788128e+00,  6.91909399e+00,  5.58015504e+00,  5.58428960e+00,\n",
       "        6.38118726e+00,  5.48293495e+00,  5.49992323e+00,  6.08834543e+00,\n",
       "        2.84826039e+00,  5.02935453e+00,  3.34650189e+00,  5.07337315e+00,\n",
       "        3.87990196e+00,  2.85081807e+00,  6.06314415e+00,  7.12687459e+00,\n",
       "        3.86040416e+00,  3.83751191e+00,  3.67352530e+00,  2.50921144e+00,\n",
       "        5.20181299e+00,  2.78353559e+00,  5.51831160e+00,  4.61804748e+00,\n",
       "        4.53390009e+00,  6.85913844e+00,  3.81913615e+00,  2.02789833e+00,\n",
       "        3.76773739e+00,  3.43000592e+00,  5.30720846e+00,  5.97620096e+00,\n",
       "        4.57384289e+00,  7.12996002e+00,  3.92946064e+00, -5.82388218e-01,\n",
       "        3.53316060e+00,  4.47118250e+00,  7.44230305e+00,  8.89614329e+00,\n",
       "        2.75693537e+00,  6.94936519e+00,  7.37133477e+00,  5.77068599e+00,\n",
       "        7.85088640e-01,  5.24242372e+00,  5.47007362e+00,  1.07439399e+00,\n",
       "        9.56152508e+00,  2.28312157e+00,  5.50734967e+00,  6.42952461e+00,\n",
       "        3.36282031e-01,  6.54453144e+00,  6.33310183e+00,  2.50749479e+00,\n",
       "        7.50481115e+00,  5.98188556e+00,  1.00067168e+00,  5.94344492e+00,\n",
       "        6.83983579e+00,  3.96900229e+00,  9.26661350e+00,  3.38220022e+00,\n",
       "        3.76841589e+00,  3.62109025e+00,  6.33709516e+00,  6.69504674e+00,\n",
       "        5.57680856e+00,  3.31832233e+00,  5.82396469e+00,  7.39255954e+00,\n",
       "        8.95975733e-01,  3.15463299e+00,  4.53524556e+00,  6.20162977e+00,\n",
       "        2.68919682e+00,  2.97832726e+00,  3.92716224e+00,  4.76099168e+00,\n",
       "        2.24738084e+00,  5.81226155e+00,  2.58192076e+00,  3.12286590e+00,\n",
       "        3.77881681e+00,  2.81154962e+00,  5.11624437e+00,  6.86656011e+00,\n",
       "        2.40210906e+00,  3.38439489e+00,  4.41146147e+00,  5.29665458e+00,\n",
       "        5.77436780e+00,  3.75937340e+00,  6.03360176e+00,  4.86612115e+00,\n",
       "        4.42280996e+00,  3.12826380e+00,  5.62319105e+00,  3.72511647e+00,\n",
       "        2.83410257e+00,  5.66902336e+00,  1.61279799e+00,  1.07333599e+00,\n",
       "        1.69025928e+00,  4.25434343e+00,  4.80426979e+00,  4.26484712e+00,\n",
       "        3.35503087e+00,  3.11021068e+00,  2.07409743e+00,  5.67366155e+00,\n",
       "        3.24479247e+00,  5.14921091e+00,  9.76931112e+00,  5.68020479e+00,\n",
       "        5.20682063e+00,  4.95891877e+00,  4.76748573e+00,  2.53726128e+00,\n",
       "        5.30604499e+00,  3.89715494e+00,  5.33151622e+00,  7.03513687e+00,\n",
       "        1.27090154e+00,  2.86372159e+00,  3.27087527e+00,  3.56129265e+00,\n",
       "        6.26908783e+00,  4.22481400e+00,  2.17247511e+00,  5.33749318e+00,\n",
       "        2.21571548e+00,  5.82045695e+00,  6.55032522e+00,  1.68994365e+00,\n",
       "        3.94963202e+00,  4.52289949e+00,  3.49135183e+00,  9.66868937e-01,\n",
       "        2.34910587e+00,  4.48241325e+00,  4.95283596e+00,  4.82476942e+00,\n",
       "        6.08910256e+00,  2.42340800e+00,  5.71961555e+00,  4.69502191e+00,\n",
       "        3.48579550e+00,  6.70009823e+00,  5.34898721e+00,  5.88185515e+00,\n",
       "        2.95121616e+00,  5.16260510e+00,  4.83132293e+00,  8.29136346e+00,\n",
       "        6.90575671e+00,  3.87018477e+00,  5.73722870e+00,  1.99953213e+00,\n",
       "        4.84001041e+00,  7.74786295e+00,  9.47383967e+00,  4.64064189e+00,\n",
       "        4.53817155e+00,  6.76886460e+00,  6.85588465e+00,  3.57354339e+00,\n",
       "        5.82554180e+00,  4.33679754e+00,  7.21529487e-01,  2.10301489e+00,\n",
       "        4.95539716e+00,  3.34289048e+00,  6.88496064e+00,  4.81648765e+00,\n",
       "        4.09506082e+00,  2.47849182e+00,  6.30992372e+00,  5.68509841e+00,\n",
       "        5.29942418e+00,  4.81128532e+00,  2.53755175e+00,  4.85396158e+00,\n",
       "        1.21036510e+00,  5.84244094e+00,  2.96178986e+00,  5.38017772e+00,\n",
       "        3.17528117e+00,  2.61624719e+00,  5.16726428e+00,  4.90589129e+00,\n",
       "        2.02235862e+00,  3.10153754e+00,  3.13901487e+00,  5.93578525e+00,\n",
       "        5.07231946e+00,  5.87972577e+00,  3.13377025e+00,  4.15685239e+00,\n",
       "        3.96801043e+00,  7.15869835e+00,  9.06012607e+00,  5.50515200e+00,\n",
       "        3.61157272e+00,  3.92281033e+00,  4.43849458e+00,  6.41010999e+00,\n",
       "        5.65343638e+00,  3.99307656e+00,  6.91631362e+00,  4.95834476e+00,\n",
       "        8.35195727e+00,  1.87693923e+00,  7.18367997e+00,  5.48251830e+00,\n",
       "        5.15870435e+00,  4.49002446e+00,  4.94713637e+00,  6.99525232e+00,\n",
       "        7.16436916e+00,  3.80030385e+00,  4.26214401e+00,  5.61901348e+00,\n",
       "        3.13613975e+00,  3.24149300e+00,  9.75325512e-01,  6.93949068e+00,\n",
       "        2.68481119e+00,  2.02043077e+00,  3.82153355e+00,  4.30322349e+00,\n",
       "        5.28825304e+00,  4.49633621e+00,  3.36159190e+00,  5.15230987e+00,\n",
       "        4.04175056e+00,  4.13922750e+00,  2.28807897e+00,  3.85933739e+00,\n",
       "        6.61886383e+00,  6.02833513e+00,  3.58755946e+00,  6.88209567e+00,\n",
       "        7.31002824e+00,  9.47421574e+00,  5.10888176e+00,  6.68047769e+00,\n",
       "        1.54821782e+00,  3.85070226e+00,  7.02110789e+00,  4.10456434e+00,\n",
       "        4.15775832e+00,  3.15955753e+00,  2.22538689e+00,  5.29322506e+00,\n",
       "        2.76272039e+00,  2.83524397e+00,  3.40749216e+00,  6.33484640e+00,\n",
       "        5.08489763e+00,  8.56820853e+00,  4.88530605e+00,  6.04368240e+00,\n",
       "        8.15400726e+00,  5.04596552e+00,  1.73077845e+00,  4.02196180e+00,\n",
       "        4.01836953e+00,  8.16167268e+00,  4.65093565e+00,  2.29925989e+00,\n",
       "        2.23989368e+00, -5.12190122e-01,  6.89228524e+00,  3.25521253e+00,\n",
       "        3.28065874e+00,  4.25995065e+00, -2.25642228e-01,  5.87572816e+00,\n",
       "        7.38859535e+00,  6.18039404e+00,  5.51815720e+00,  4.16207549e+00,\n",
       "        1.81768722e+00,  1.06424165e+00,  5.25888001e+00,  3.08129979e-01,\n",
       "        2.95739644e+00,  5.77827674e+00,  1.42644101e+00,  3.46504127e+00,\n",
       "        5.97556000e+00,  5.20533983e+00,  6.65575288e+00,  3.49432542e+00,\n",
       "        5.21285279e+00,  6.51267560e+00,  1.81139471e+00,  4.40544609e+00,\n",
       "        2.20024767e+00,  2.06520928e+00,  5.04129076e+00,  2.56426291e+00,\n",
       "        7.48978108e+00,  9.07363717e+00,  4.04440345e+00,  6.95449139e+00,\n",
       "        7.63457765e+00,  6.50461747e+00,  3.64316968e+00,  5.75002525e+00,\n",
       "        8.68384503e+00,  2.16543591e+00,  4.80148430e+00,  5.08993849e+00,\n",
       "        7.21828645e+00,  3.00403145e+00,  6.83931362e+00,  9.10285712e+00,\n",
       "        4.51461831e+00,  8.10079825e+00,  3.32775859e+00,  7.24201686e+00,\n",
       "        2.59183856e+00,  6.58940769e+00,  5.56014928e+00,  4.24558655e+00,\n",
       "        4.22245967e+00,  5.29582127e+00,  7.53830457e+00,  7.43687424e-01,\n",
       "        6.38370522e+00,  2.73121716e+00,  3.15269935e+00,  1.71118703e+00,\n",
       "        7.07485094e+00,  4.25627766e+00,  5.43031239e+00,  4.32476210e+00,\n",
       "        3.29774400e+00,  6.91576948e+00,  2.08172965e+00,  5.04844854e+00,\n",
       "        1.95816662e+00,  4.43687107e+00,  3.79602041e+00,  4.14604261e+00,\n",
       "        3.17904276e+00,  5.35952917e+00,  3.84701200e+00,  3.75698745e+00,\n",
       "        5.42261455e+00,  5.73989945e+00,  2.84962246e+00,  1.24300979e+00,\n",
       "        5.38580211e+00,  3.64239587e+00,  4.58557777e+00,  4.31677077e+00,\n",
       "        5.45259698e+00,  2.94448741e+00,  4.93022176e+00,  6.25521432e+00])"
      ]
     },
     "execution_count": 5,
     "metadata": {},
     "output_type": "execute_result"
    }
   ],
   "source": [
    "normal_dist"
   ]
  },
  {
   "cell_type": "code",
   "execution_count": 4,
   "metadata": {},
   "outputs": [
    {
     "data": {
      "text/plain": [
       "-1.3500311979441903e-16"
      ]
     },
     "execution_count": 4,
     "metadata": {},
     "output_type": "execute_result"
    }
   ],
   "source": [
    "# Here, let's standardize by hand\n",
    "# (x - mean) / std\n",
    "z_dist = [(x - np.mean(normal_dist)) / np.std(normal_dist)\n",
    "          for x in normal_dist]\n",
    "\n",
    "np.mean(z_dist)"
   ]
  },
  {
   "cell_type": "code",
   "execution_count": 6,
   "metadata": {},
   "outputs": [
    {
     "data": {
      "image/png": "[encoded data removed]",
      "text/plain": [
       "<Figure size 720x432 with 2 Axes>"
      ]
     },
     "metadata": {
      "needs_background": "light"
     },
     "output_type": "display_data"
    }
   ],
   "source": [
    "# Visualize it\n",
    "fig, (ax0, ax1) = plt.subplots(nrows=2, sharex=True, figsize=(10, 6))\n",
    "\n",
    "sns.histplot(data=normal_dist, ax=ax0)\n",
    "ax0.set_title('Before Standardization')\n",
    "\n",
    "sns.histplot(data=z_dist, ax=ax1)\n",
    "ax1.set_title('After Standardization')\n",
    "\n",
    "plt.tight_layout()"
   ]
  },
  {
   "cell_type": "markdown",
   "metadata": {
    "hidden": true
   },
   "source": [
    "Talking about the **standard normal distribution** can be very convenient since the values correspond to the number of standard deviations above or below the mean."
   ]
  },
  {
   "cell_type": "markdown",
   "metadata": {
    "heading_collapsed": true,
    "hidden": true
   },
   "source": [
    "## $z$-Score"
   ]
  },
  {
   "cell_type": "markdown",
   "metadata": {
    "hidden": true
   },
   "source": [
    "A **$z$-score** for a specific data point $x$ (in a normal distribution) is simply the distance to the mean in the units of standard deviations\n",
    "\n",
    "$$\\large z = \\frac{x - \\mu}{\\sigma}$$\n",
    "\n",
    "By calculating the z-score of an individual point, we can see how unlikely a value is."
   ]
  },
  {
   "cell_type": "markdown",
   "metadata": {
    "hidden": true
   },
   "source": [
    "Here's a little site with some [interactive Gaussians](https://www.intmath.com/counting-probability/normal-distribution-graph-interactive.php)"
   ]
  },
  {
   "cell_type": "markdown",
   "metadata": {
    "heading_collapsed": true,
    "hidden": true
   },
   "source": [
    "#### 🧠 Knowledge Check"
   ]
  },
  {
   "cell_type": "markdown",
   "metadata": {
    "hidden": true
   },
   "source": [
    "What would the $z$-score be for the middle of a normal curve?\n",
    "\n",
    "- 0\n",
    "\n"
   ]
  },
  {
   "cell_type": "markdown",
   "metadata": {
    "heading_collapsed": true,
    "hidden": true
   },
   "source": [
    "### The Empirical Rule"
   ]
  },
  {
   "cell_type": "markdown",
   "metadata": {
    "hidden": true
   },
   "source": [
    "> Rule states that $68\\%$ of the values of a normal distribution of data lie within 1 standard deviation ($\\sigma$) of the mean, $95\\%$ within $2\\sigma$, and $99.7\\%$ within $3\\sigma$.  \n",
    "\n",
    "This makes it really quick to look at a normal distribution and understand where values tend to lie"
   ]
  },
  {
   "cell_type": "markdown",
   "metadata": {
    "hidden": true
   },
   "source": [
    "<img src='https://github.com/learn-co-students/dsc-0-09-12-gaussian-distributions-online-ds-ft-031119/blob/master/normalsd.jpg?raw=true' width=700/>"
   ]
  },
  {
   "cell_type": "markdown",
   "metadata": {
    "heading_collapsed": true,
    "hidden": true
   },
   "source": [
    "#### 🧠 Knowledge Check"
   ]
  },
  {
   "cell_type": "markdown",
   "metadata": {
    "hidden": true
   },
   "source": [
    "About what percentage of the values would be between a $z$-score of $-1$ and a $z$-score of $2$?\n",
    "\n",
    "<details>\n",
    "    <summary>Answer</summary>\n",
    "    About $82\\%$\n",
    "</details>"
   ]
  },
  {
   "cell_type": "code",
   "execution_count": 8,
   "metadata": {},
   "outputs": [
    {
     "data": {
      "text/plain": [
       "81.5"
      ]
     },
     "execution_count": 8,
     "metadata": {},
     "output_type": "execute_result"
    }
   ],
   "source": [
    "81.5"
   ]
  },
  {
   "cell_type": "markdown",
   "metadata": {
    "heading_collapsed": true
   },
   "source": [
    "# Exercises"
   ]
  },
  {
   "cell_type": "markdown",
   "metadata": {},
   "source": [
    "The distribution of people's heights in the United States has a **mean of 66 inches** and a **standard deviation of 4 inches**. "
   ]
  },
  {
   "cell_type": "markdown",
   "metadata": {
    "heading_collapsed": true,
    "hidden": true
   },
   "source": [
    "## Height $z$-score"
   ]
  },
  {
   "cell_type": "markdown",
   "metadata": {
    "hidden": true
   },
   "source": [
    "Calculate the z-score of a height of **76 inches.**"
   ]
  },
  {
   "cell_type": "code",
   "execution_count": 9,
   "metadata": {
    "hidden": true
   },
   "outputs": [
    {
     "data": {
      "text/plain": [
       "2.5"
      ]
     },
     "execution_count": 9,
     "metadata": {},
     "output_type": "execute_result"
    }
   ],
   "source": [
    "# Your code here\n",
    "(76 - 66) / 4"
   ]
  },
  {
   "cell_type": "markdown",
   "metadata": {},
   "source": [
    "<details>\n",
    "    <summary>Answer</summary>\n",
    "    <code># z-score: z = (x - mu) / std\n",
    "(76 - 66) / 4</code>\n",
    "</details>"
   ]
  },
  {
   "cell_type": "markdown",
   "metadata": {},
   "source": [
    "#### Describe the z-score - what does it tell us?\n",
    "\n",
    "- A height of 76in is 2.5 standard deviations above the population mean\n"
   ]
  },
  {
   "cell_type": "code",
   "execution_count": 11,
   "metadata": {},
   "outputs": [
    {
     "data": {
      "text/plain": [
       "0.006209665325776159"
      ]
     },
     "execution_count": 11,
     "metadata": {},
     "output_type": "execute_result"
    }
   ],
   "source": [
    "1 - stats.norm(loc=0, scale=1).cdf(2.5)"
   ]
  },
  {
   "cell_type": "markdown",
   "metadata": {
    "heading_collapsed": true,
    "hidden": true
   },
   "source": [
    "## Height Empirical Rule"
   ]
  },
  {
   "cell_type": "markdown",
   "metadata": {
    "hidden": true
   },
   "source": [
    "Determine the proportion of those whose height is between **62 inches and 74 inches**."
   ]
  },
  {
   "cell_type": "code",
   "execution_count": 12,
   "metadata": {},
   "outputs": [],
   "source": [
    "# Your code here\n",
    "z_62 = (62 - 66) / 4\n",
    "z_74 = (74 - 66) / 4"
   ]
  },
  {
   "cell_type": "markdown",
   "metadata": {},
   "source": [
    "<details>\n",
    "    <summary>Answer 1</summary>\n",
    "<code># z-scores for 62\" and 74\":\n",
    "z_62 = (62 - 66) / 4\n",
    "z_74 = (74 - 66) / 4\n",
    "z_62, z_74</code>\n",
    "    </details>"
   ]
  },
  {
   "cell_type": "code",
   "execution_count": 15,
   "metadata": {},
   "outputs": [
    {
     "data": {
      "text/plain": [
       "-1.0"
      ]
     },
     "execution_count": 15,
     "metadata": {},
     "output_type": "execute_result"
    }
   ],
   "source": [
    "z_62"
   ]
  },
  {
   "cell_type": "code",
   "execution_count": 17,
   "metadata": {},
   "outputs": [],
   "source": [
    "height_dist = stats.norm(loc=66, scale=4)"
   ]
  },
  {
   "cell_type": "code",
   "execution_count": 19,
   "metadata": {},
   "outputs": [
    {
     "data": {
      "text/plain": [
       "0.9772498680518208"
      ]
     },
     "execution_count": 19,
     "metadata": {},
     "output_type": "execute_result"
    }
   ],
   "source": [
    "height_dist.cdf(74)"
   ]
  },
  {
   "cell_type": "code",
   "execution_count": 20,
   "metadata": {},
   "outputs": [
    {
     "data": {
      "text/plain": [
       "0.15865525393145707"
      ]
     },
     "execution_count": 20,
     "metadata": {},
     "output_type": "execute_result"
    }
   ],
   "source": [
    "height_dist.cdf(62)"
   ]
  },
  {
   "cell_type": "code",
   "execution_count": 21,
   "metadata": {},
   "outputs": [
    {
     "data": {
      "text/plain": [
       "0.8185946141203637"
      ]
     },
     "execution_count": 21,
     "metadata": {},
     "output_type": "execute_result"
    }
   ],
   "source": [
    "height_dist.cdf(74) - height_dist.cdf(62)"
   ]
  },
  {
   "cell_type": "markdown",
   "metadata": {},
   "source": [
    "<details>\n",
    "    <summary>Answer 2</summary>\n",
    "    <code>heights = stats.norm(loc=66, scale=4)\n",
    "heights.cdf(74) - heights.cdf(62)</code>\n",
    "    </details>"
   ]
  },
  {
   "cell_type": "code",
   "execution_count": 14,
   "metadata": {},
   "outputs": [
    {
     "data": {
      "text/plain": [
       "2.0"
      ]
     },
     "execution_count": 14,
     "metadata": {},
     "output_type": "execute_result"
    }
   ],
   "source": [
    "z_74"
   ]
  },
  {
   "cell_type": "markdown",
   "metadata": {
    "heading_collapsed": true,
    "hidden": true
   },
   "source": [
    "## Height Percentile"
   ]
  },
  {
   "cell_type": "markdown",
   "metadata": {
    "hidden": true
   },
   "source": [
    "Assuming the above distribution of people's heights in the United States is approximately normal, what percent of people have a height **less than 75 inches**?"
   ]
  },
  {
   "cell_type": "code",
   "execution_count": 24,
   "metadata": {},
   "outputs": [
    {
     "data": {
      "text/plain": [
       "0.9877755273449553"
      ]
     },
     "execution_count": 24,
     "metadata": {},
     "output_type": "execute_result"
    }
   ],
   "source": [
    "# Your code here\n",
    "height_dist.cdf(75)"
   ]
  },
  {
   "cell_type": "markdown",
   "metadata": {},
   "source": [
    "<details>\n",
    "    <summary>Answer</summary>\n",
    "    <code>heights.cdf(75)</code>\n",
    "    </details>"
   ]
  },
  {
   "cell_type": "markdown",
   "metadata": {
    "heading_collapsed": true,
    "hidden": true
   },
   "source": [
    "## Bonus"
   ]
  },
  {
   "cell_type": "markdown",
   "metadata": {
    "hidden": true
   },
   "source": [
    "Assuming the above distribution of people's heights in the United States is approximately normal, what range of heights contain the **middle 50% of values**, also known as the _interquartile range_ (IQR)?"
   ]
  },
  {
   "cell_type": "code",
   "execution_count": 28,
   "metadata": {},
   "outputs": [
    {
     "data": {
      "text/plain": [
       "-0.6744897501960817"
      ]
     },
     "execution_count": 28,
     "metadata": {},
     "output_type": "execute_result"
    }
   ],
   "source": [
    "z_dist = stats.norm(loc=0, scale=1)\n",
    "z_dist.ppf(.25)"
   ]
  },
  {
   "cell_type": "code",
   "execution_count": 27,
   "metadata": {},
   "outputs": [
    {
     "data": {
      "text/plain": [
       "(63.30204099921567, 68.69795900078432)"
      ]
     },
     "execution_count": 27,
     "metadata": {},
     "output_type": "execute_result"
    }
   ],
   "source": [
    "# Your code here\n",
    "height_dist.ppf(.25), height_dist.ppf(.75)"
   ]
  },
  {
   "cell_type": "code",
   "execution_count": 29,
   "metadata": {},
   "outputs": [
    {
     "data": {
      "text/plain": [
       "-0.6750000000000007"
      ]
     },
     "execution_count": 29,
     "metadata": {},
     "output_type": "execute_result"
    }
   ],
   "source": [
    "(63.3 - 66) / 4"
   ]
  },
  {
   "cell_type": "markdown",
   "metadata": {},
   "source": [
    "<details>\n",
    "    <summary>Answer</summary>\n",
    "    <code>heights.ppf(0.25), heights.ppf(0.75)</code>\n",
    "    </details>"
   ]
  },
  {
   "cell_type": "markdown",
   "metadata": {},
   "source": [
    "## Time for Pandas!\n",
    "\n",
    "Let's use the same Seattle City Employee data from the first Distributions lecture to check out what scaling looks like in practice!\n",
    "\n",
    "Data source: https://data.seattle.gov/City-Business/City-of-Seattle-Wage-Data/2khk-5ukd"
   ]
  },
  {
   "cell_type": "code",
   "execution_count": 30,
   "metadata": {},
   "outputs": [],
   "source": [
    "# Read in the data\n",
    "df = pd.read_csv('data/City_of_Seattle_Wage_Data_031422.csv')"
   ]
  },
  {
   "cell_type": "code",
   "execution_count": 31,
   "metadata": {},
   "outputs": [
    {
     "data": {
      "text/html": [
       "<div>\n",
       "<style scoped>\n",
       "    .dataframe tbody tr th:only-of-type {\n",
       "        vertical-align: middle;\n",
       "    }\n",
       "\n",
       "    .dataframe tbody tr th {\n",
       "        vertical-align: top;\n",
       "    }\n",
       "\n",
       "    .dataframe thead th {\n",
       "        text-align: right;\n",
       "    }\n",
       "</style>\n",
       "<table border=\"1\" class=\"dataframe\">\n",
       "  <thead>\n",
       "    <tr style=\"text-align: right;\">\n",
       "      <th></th>\n",
       "      <th>Department</th>\n",
       "      <th>Last Name</th>\n",
       "      <th>First Name</th>\n",
       "      <th>Job Title</th>\n",
       "      <th>Hourly Rate</th>\n",
       "    </tr>\n",
       "  </thead>\n",
       "  <tbody>\n",
       "    <tr>\n",
       "      <th>0</th>\n",
       "      <td>Seattle Public Utilities</td>\n",
       "      <td>Batchelor</td>\n",
       "      <td>Craig</td>\n",
       "      <td>Civil Engrng Spec,Sr</td>\n",
       "      <td>53.740</td>\n",
       "    </tr>\n",
       "    <tr>\n",
       "      <th>1</th>\n",
       "      <td>Finance &amp; Admin Services</td>\n",
       "      <td>Altice</td>\n",
       "      <td>Jeffrey</td>\n",
       "      <td>Auto Mechanic</td>\n",
       "      <td>39.780</td>\n",
       "    </tr>\n",
       "    <tr>\n",
       "      <th>2</th>\n",
       "      <td>Finance &amp; Admin Services</td>\n",
       "      <td>Montes</td>\n",
       "      <td>Valeria</td>\n",
       "      <td>Cust Svc Rep</td>\n",
       "      <td>29.450</td>\n",
       "    </tr>\n",
       "    <tr>\n",
       "      <th>3</th>\n",
       "      <td>Fire Department</td>\n",
       "      <td>Kuklok</td>\n",
       "      <td>Rebecca</td>\n",
       "      <td>Cust Svc Rep *</td>\n",
       "      <td>29.450</td>\n",
       "    </tr>\n",
       "    <tr>\n",
       "      <th>4</th>\n",
       "      <td>Planning &amp; Comm Development</td>\n",
       "      <td>Quirindongo</td>\n",
       "      <td>Rico</td>\n",
       "      <td>Executive3</td>\n",
       "      <td>97.164</td>\n",
       "    </tr>\n",
       "  </tbody>\n",
       "</table>\n",
       "</div>"
      ],
      "text/plain": [
       "                    Department    Last Name First Name             Job Title  \\\n",
       "0     Seattle Public Utilities    Batchelor      Craig  Civil Engrng Spec,Sr   \n",
       "1     Finance & Admin Services       Altice    Jeffrey         Auto Mechanic   \n",
       "2     Finance & Admin Services       Montes    Valeria          Cust Svc Rep   \n",
       "3              Fire Department       Kuklok    Rebecca        Cust Svc Rep *   \n",
       "4  Planning & Comm Development  Quirindongo       Rico            Executive3   \n",
       "\n",
       "   Hourly Rate   \n",
       "0        53.740  \n",
       "1        39.780  \n",
       "2        29.450  \n",
       "3        29.450  \n",
       "4        97.164  "
      ]
     },
     "execution_count": 31,
     "metadata": {},
     "output_type": "execute_result"
    }
   ],
   "source": [
    "# Check it\n",
    "df.head()"
   ]
  },
  {
   "cell_type": "code",
   "execution_count": 32,
   "metadata": {},
   "outputs": [],
   "source": [
    "# Rename the columns\n",
    "df = df.rename(columns = lambda x: x.replace(\" \", \"\"))"
   ]
  },
  {
   "cell_type": "code",
   "execution_count": 33,
   "metadata": {},
   "outputs": [
    {
     "data": {
      "text/html": [
       "<div>\n",
       "<style scoped>\n",
       "    .dataframe tbody tr th:only-of-type {\n",
       "        vertical-align: middle;\n",
       "    }\n",
       "\n",
       "    .dataframe tbody tr th {\n",
       "        vertical-align: top;\n",
       "    }\n",
       "\n",
       "    .dataframe thead th {\n",
       "        text-align: right;\n",
       "    }\n",
       "</style>\n",
       "<table border=\"1\" class=\"dataframe\">\n",
       "  <thead>\n",
       "    <tr style=\"text-align: right;\">\n",
       "      <th></th>\n",
       "      <th>HourlyRate</th>\n",
       "    </tr>\n",
       "  </thead>\n",
       "  <tbody>\n",
       "    <tr>\n",
       "      <th>count</th>\n",
       "      <td>11739.000000</td>\n",
       "    </tr>\n",
       "    <tr>\n",
       "      <th>mean</th>\n",
       "      <td>47.817331</td>\n",
       "    </tr>\n",
       "    <tr>\n",
       "      <th>std</th>\n",
       "      <td>16.722128</td>\n",
       "    </tr>\n",
       "    <tr>\n",
       "      <th>min</th>\n",
       "      <td>5.530000</td>\n",
       "    </tr>\n",
       "    <tr>\n",
       "      <th>25%</th>\n",
       "      <td>35.400000</td>\n",
       "    </tr>\n",
       "    <tr>\n",
       "      <th>50%</th>\n",
       "      <td>47.340000</td>\n",
       "    </tr>\n",
       "    <tr>\n",
       "      <th>75%</th>\n",
       "      <td>59.550000</td>\n",
       "    </tr>\n",
       "    <tr>\n",
       "      <th>max</th>\n",
       "      <td>187.767000</td>\n",
       "    </tr>\n",
       "  </tbody>\n",
       "</table>\n",
       "</div>"
      ],
      "text/plain": [
       "         HourlyRate\n",
       "count  11739.000000\n",
       "mean      47.817331\n",
       "std       16.722128\n",
       "min        5.530000\n",
       "25%       35.400000\n",
       "50%       47.340000\n",
       "75%       59.550000\n",
       "max      187.767000"
      ]
     },
     "execution_count": 33,
     "metadata": {},
     "output_type": "execute_result"
    }
   ],
   "source": [
    "# Describe the numeric column\n",
    "df.describe()"
   ]
  },
  {
   "cell_type": "code",
   "execution_count": 34,
   "metadata": {},
   "outputs": [
    {
     "data": {
      "image/png": "[encoded data removed]",
      "text/plain": [
       "<Figure size 432x288 with 1 Axes>"
      ]
     },
     "metadata": {
      "needs_background": "light"
     },
     "output_type": "display_data"
    }
   ],
   "source": [
    "# Plot the hourly rate column\n",
    "sns.kdeplot(df['HourlyRate']);"
   ]
  },
  {
   "cell_type": "markdown",
   "metadata": {},
   "source": [
    "How can we describe this distribution?\n",
    "\n",
    "- Extreme high positive values, outliers\n",
    "- Bimodal or maybe even trimodal\n",
    "- Not perfectly normal, but it is kinda normal\n",
    "\n"
   ]
  },
  {
   "cell_type": "markdown",
   "metadata": {},
   "source": [
    "### Using Z-Scores"
   ]
  },
  {
   "cell_type": "code",
   "execution_count": 44,
   "metadata": {
    "scrolled": true
   },
   "outputs": [
    {
     "data": {
      "text/html": [
       "<div>\n",
       "<style scoped>\n",
       "    .dataframe tbody tr th:only-of-type {\n",
       "        vertical-align: middle;\n",
       "    }\n",
       "\n",
       "    .dataframe tbody tr th {\n",
       "        vertical-align: top;\n",
       "    }\n",
       "\n",
       "    .dataframe thead th {\n",
       "        text-align: right;\n",
       "    }\n",
       "</style>\n",
       "<table border=\"1\" class=\"dataframe\">\n",
       "  <thead>\n",
       "    <tr style=\"text-align: right;\">\n",
       "      <th></th>\n",
       "      <th>Department</th>\n",
       "      <th>LastName</th>\n",
       "      <th>FirstName</th>\n",
       "      <th>JobTitle</th>\n",
       "      <th>HourlyRate</th>\n",
       "    </tr>\n",
       "  </thead>\n",
       "  <tbody>\n",
       "    <tr>\n",
       "      <th>9063</th>\n",
       "      <td>Seattle City Light</td>\n",
       "      <td>Airhart</td>\n",
       "      <td>Jami</td>\n",
       "      <td>Engrng Aide</td>\n",
       "      <td>34.6</td>\n",
       "    </tr>\n",
       "  </tbody>\n",
       "</table>\n",
       "</div>"
      ],
      "text/plain": [
       "              Department LastName FirstName     JobTitle  HourlyRate\n",
       "9063  Seattle City Light  Airhart      Jami  Engrng Aide        34.6"
      ]
     },
     "execution_count": 44,
     "metadata": {},
     "output_type": "execute_result"
    }
   ],
   "source": [
    "# Grab a sample row\n",
    "sample_row = df.sample(1)\n",
    "sample_row"
   ]
  },
  {
   "cell_type": "code",
   "execution_count": 45,
   "metadata": {},
   "outputs": [
    {
     "data": {
      "text/plain": [
       "-0.7904096383053588"
      ]
     },
     "execution_count": 45,
     "metadata": {},
     "output_type": "execute_result"
    }
   ],
   "source": [
    "# Calculate the z-score for that row's HourlyRate\n",
    "(sample_row['HourlyRate'].values[0] - df['HourlyRate'].mean()) / df['HourlyRate'].std()"
   ]
  },
  {
   "cell_type": "code",
   "execution_count": 37,
   "metadata": {},
   "outputs": [
    {
     "data": {
      "text/plain": [
       "16.722127999840392"
      ]
     },
     "execution_count": 37,
     "metadata": {},
     "output_type": "execute_result"
    }
   ],
   "source": [
    "df['HourlyRate'].std()"
   ]
  },
  {
   "cell_type": "code",
   "execution_count": 38,
   "metadata": {},
   "outputs": [
    {
     "data": {
      "text/plain": [
       "11.899999999999999"
      ]
     },
     "execution_count": 38,
     "metadata": {},
     "output_type": "execute_result"
    }
   ],
   "source": [
    ".7 * 17"
   ]
  },
  {
   "cell_type": "code",
   "execution_count": 39,
   "metadata": {},
   "outputs": [
    {
     "data": {
      "text/plain": [
       "35.91733114404976"
      ]
     },
     "execution_count": 39,
     "metadata": {},
     "output_type": "execute_result"
    }
   ],
   "source": [
    "df['HourlyRate'].mean() - 11.9"
   ]
  },
  {
   "cell_type": "code",
   "execution_count": 46,
   "metadata": {
    "scrolled": true
   },
   "outputs": [],
   "source": [
    "# Standardize the column\n",
    "mu = df['HourlyRate'].mean()\n",
    "sigma = df['HourlyRate'].std()\n",
    "standardized_rate = [(x-mu)/sigma for x in df['HourlyRate']]"
   ]
  },
  {
   "cell_type": "code",
   "execution_count": 48,
   "metadata": {},
   "outputs": [
    {
     "data": {
      "image/png": "[encoded data removed]",
      "text/plain": [
       "<Figure size 432x288 with 2 Axes>"
      ]
     },
     "metadata": {
      "needs_background": "light"
     },
     "output_type": "display_data"
    }
   ],
   "source": [
    "# Visualize it\n",
    "fig, (ax1, ax2) = plt.subplots(nrows=2, ncols=1, sharex=True)\n",
    "# Can toggle sharex to see the impact of the scale\n",
    "\n",
    "sns.kdeplot(df['HourlyRate'], ax=ax1, label='Without Scaling')\n",
    "ax1.legend()\n",
    "\n",
    "sns.kdeplot(standardized_rate, ax=ax2, label='With Scaling')\n",
    "ax2.legend()\n",
    "\n",
    "plt.show()"
   ]
  },
  {
   "cell_type": "markdown",
   "metadata": {},
   "source": [
    "Let's discuss:\n",
    "\n",
    "- We have standardize and shrunk our values. Values now are in units of standard deviations instead of the original units\n"
   ]
  },
  {
   "cell_type": "markdown",
   "metadata": {},
   "source": [
    "## Central Limit Theorem (CLT)\n",
    "\n",
    "We mentioned that the distribution above doesn't seem very normal. But here's something cool:\n",
    "\n",
    "> \"The central limit theorem states that the sampling distribution of the mean of any independent, random variable will be normal or nearly normal, if the sample size is large enough.\" \n",
    "- From [Stat Trek](https://stattrek.com/statistics/dictionary.aspx?definition=central_limit_theorem)"
   ]
  },
  {
   "cell_type": "markdown",
   "metadata": {},
   "source": [
    "Let's look at an example, using the popular Iris dataset:\n",
    "\n",
    "<img src=\"images/probability-basics.gif\" width=800>\n",
    "\n",
    "Here, taking samples of 15 flowers at a time and measuring their sepal lengths, we see that the the mean of the samples is normally distributed, where the mean of that normal distribution approximates the population mean. \n",
    "\n",
    "The coolest part is - this is true and works almost no matter what the original distribution is! (I say 'almost' because there are exceptions, of course). Even when we have _distinctly non-normal distributions_, we can use sampling to get a representation of population parameters (like the population mean)."
   ]
  },
  {
   "cell_type": "markdown",
   "metadata": {},
   "source": [
    "## Revisiting Sampling\n",
    "\n",
    "Before we apply a theorem that's related to sampling, we should remember some key things about sampling.\n",
    "\n",
    "<img src=\"images/sample_pop.png\" alt=\"sampling example with circled people\" width=800>\n",
    "\n",
    "Our goal when sampling is to find a representative group, from which we can infer population parameters.\n",
    "\n",
    "Remember: samples have statistics, populations have parameters.\n",
    "\n",
    "In order to do this effectively, our sample should be randomly selected and representative of our population (which sounds nice and easy, it's hard to do in practice). We are trying to minimize bias in our sample, but also we are sampling because we're trying to minimize cost as well."
   ]
  },
  {
   "cell_type": "markdown",
   "metadata": {},
   "source": [
    "### Back to our Seattle Data"
   ]
  },
  {
   "cell_type": "markdown",
   "metadata": {},
   "source": [
    "Let's take 100 samples of 50 employees each time, and see what their average hourly rate is:"
   ]
  },
  {
   "cell_type": "code",
   "execution_count": 59,
   "metadata": {},
   "outputs": [],
   "source": [
    "k = 100 # number of samples\n",
    "n = 50 # number of employees per sample\n",
    "\n",
    "# The full for loop version:\n",
    "# sample_means = []\n",
    "# for x in range(n):\n",
    "#     sample_emps = df.sample(n=n)\n",
    "#     sample_mean = sample_emps['Hourly Rate '].mean()\n",
    "#     sample_means.append(sample_mean)\n",
    "    \n",
    "# But let's do this with list comprehension:\n",
    "sample_means = [np.mean(df.sample(n=n))[0] for x in range(k)]"
   ]
  },
  {
   "cell_type": "code",
   "execution_count": 60,
   "metadata": {},
   "outputs": [
    {
     "data": {
      "text/plain": [
       "[47.64366,\n",
       " 47.880630000000004,\n",
       " 49.67604,\n",
       " 44.00055999999999,\n",
       " 48.159920000000014,\n",
       " 49.260802000000005,\n",
       " 46.504000000000005,\n",
       " 44.991800000000005,\n",
       " 51.76952,\n",
       " 46.785475999999996,\n",
       " 47.41172,\n",
       " 49.342780000000005,\n",
       " 45.5968,\n",
       " 45.270240000000015,\n",
       " 47.955394000000005,\n",
       " 47.015974,\n",
       " 49.53157,\n",
       " 45.992760000000004,\n",
       " 50.588387999999995,\n",
       " 45.5223,\n",
       " 50.640276,\n",
       " 46.826682,\n",
       " 50.06512000000001,\n",
       " 50.00509999999999,\n",
       " 44.929548,\n",
       " 47.056695999999995,\n",
       " 45.962731999999995,\n",
       " 46.646352,\n",
       " 45.88408,\n",
       " 48.36795600000001,\n",
       " 43.37974,\n",
       " 47.356480000000005,\n",
       " 51.51413600000001,\n",
       " 44.55857999999999,\n",
       " 48.687633999999996,\n",
       " 49.05262400000001,\n",
       " 48.16754,\n",
       " 47.484159999999996,\n",
       " 48.228337999999994,\n",
       " 45.511292000000005,\n",
       " 47.75788000000001,\n",
       " 48.917696000000014,\n",
       " 46.01196,\n",
       " 46.885682,\n",
       " 45.49022,\n",
       " 46.523140000000005,\n",
       " 50.6702,\n",
       " 46.466922,\n",
       " 43.83694799999999,\n",
       " 48.28095800000001,\n",
       " 51.15945,\n",
       " 46.728562000000004,\n",
       " 46.90449999999999,\n",
       " 47.31709999999999,\n",
       " 49.673460000000006,\n",
       " 44.06503000000001,\n",
       " 46.012854000000004,\n",
       " 47.94908600000001,\n",
       " 43.839760000000005,\n",
       " 45.07315600000001,\n",
       " 49.6175,\n",
       " 44.93231,\n",
       " 49.00686,\n",
       " 47.42062000000001,\n",
       " 53.027488000000005,\n",
       " 49.547044,\n",
       " 49.81213200000001,\n",
       " 48.83371,\n",
       " 47.451632,\n",
       " 47.436074000000005,\n",
       " 51.71067999999998,\n",
       " 46.16833799999999,\n",
       " 45.12691200000001,\n",
       " 48.487821999999994,\n",
       " 46.77301799999999,\n",
       " 43.97902,\n",
       " 44.71212,\n",
       " 47.930672,\n",
       " 48.55396,\n",
       " 44.84674,\n",
       " 49.67354,\n",
       " 48.917416,\n",
       " 45.92508600000001,\n",
       " 48.011952,\n",
       " 48.958721999999995,\n",
       " 46.522181999999994,\n",
       " 43.07280000000001,\n",
       " 45.442984,\n",
       " 48.39615999999999,\n",
       " 49.06383400000001,\n",
       " 43.565960000000004,\n",
       " 46.506806,\n",
       " 53.991658,\n",
       " 49.64108,\n",
       " 45.065971999999995,\n",
       " 45.002869999999994,\n",
       " 50.050126,\n",
       " 47.325320000000005,\n",
       " 44.69106000000001,\n",
       " 48.145818000000006]"
      ]
     },
     "execution_count": 60,
     "metadata": {},
     "output_type": "execute_result"
    }
   ],
   "source": [
    "sample_means"
   ]
  },
  {
   "cell_type": "code",
   "execution_count": null,
   "metadata": {},
   "outputs": [],
   "source": []
  },
  {
   "cell_type": "code",
   "execution_count": 61,
   "metadata": {
    "scrolled": false
   },
   "outputs": [
    {
     "data": {
      "image/png": "[encoded data removed]",
      "text/plain": [
       "<Figure size 576x432 with 1 Axes>"
      ]
     },
     "metadata": {
      "needs_background": "light"
     },
     "output_type": "display_data"
    }
   ],
   "source": [
    "# Plotting the distribution of our samples, plus our pop and sample means\n",
    "pop_mean = df['HourlyRate'].mean()\n",
    "samp_mean = np.mean(sample_means)\n",
    "\n",
    "plt.figure(figsize=(8,6))\n",
    "\n",
    "sns.histplot(sample_means)\n",
    "\n",
    "plt.vlines(pop_mean, ymin=0, ymax=25, color='r', linestyle=':',\n",
    "           label=f'Population Mean: {pop_mean:.2f}')\n",
    "plt.vlines(samp_mean, ymin=0, ymax=25, color='g', linestyle=':',\n",
    "           label=f'Mean of {k} Samples: {samp_mean:.2f}')\n",
    "\n",
    "plt.legend();"
   ]
  },
  {
   "cell_type": "code",
   "execution_count": 63,
   "metadata": {},
   "outputs": [
    {
     "data": {
      "text/plain": [
       "<AxesSubplot:xlabel='HourlyRate', ylabel='Density'>"
      ]
     },
     "execution_count": 63,
     "metadata": {},
     "output_type": "execute_result"
    },
    {
     "data": {
      "image/png": "[encoded data removed]",
      "text/plain": [
       "<Figure size 432x288 with 1 Axes>"
      ]
     },
     "metadata": {
      "needs_background": "light"
     },
     "output_type": "display_data"
    }
   ],
   "source": [
    "sns.kdeplot(df['HourlyRate'])"
   ]
  },
  {
   "cell_type": "markdown",
   "metadata": {},
   "source": [
    "Discuss:\n",
    "\n",
    "- CLT at play, distribution of sample means is mostly normal (more than original)\n"
   ]
  },
  {
   "cell_type": "markdown",
   "metadata": {
    "heading_collapsed": true
   },
   "source": [
    "-----\n",
    "\n",
    "\n",
    "# Level Up: Other Distributions"
   ]
  },
  {
   "cell_type": "markdown",
   "metadata": {
    "hidden": true
   },
   "source": [
    "The world is full of distributions to explore! See some other less-common ones below:"
   ]
  },
  {
   "cell_type": "markdown",
   "metadata": {
    "hidden": true
   },
   "source": [
    "![](images/distributions.png)"
   ]
  },
  {
   "cell_type": "markdown",
   "metadata": {
    "hidden": true
   },
   "source": [
    "Now that we know a few methods in visualizing distributions 📊👀, we can start looking at different types of distributions.\n",
    "\n",
    "We can tell a lot about a distribution shape such as taking a guess of the mechanism that it took to generate the data."
   ]
  },
  {
   "cell_type": "markdown",
   "metadata": {
    "heading_collapsed": true,
    "hidden": true
   },
   "source": [
    "## Distribution Types Exercise"
   ]
  },
  {
   "cell_type": "markdown",
   "metadata": {
    "hidden": true
   },
   "source": [
    "What type of distribution would you expect to best describe the following datasets?\n",
    "\n",
    "1. Survey responses about whether people voted\n",
    "2. Rolls on a six-sided die\n",
    "3. Numbers of defects in shipments of toys\n",
    "4. Output from a random number generator\n",
    "5. Measurements of palm tree heights"
   ]
  },
  {
   "cell_type": "code",
   "execution_count": 66,
   "metadata": {},
   "outputs": [
    {
     "data": {
      "text/plain": [
       "0.21968953357508272"
      ]
     },
     "execution_count": 66,
     "metadata": {},
     "output_type": "execute_result"
    }
   ],
   "source": [
    "stats.norm.rvs()"
   ]
  },
  {
   "cell_type": "markdown",
   "metadata": {
    "hidden": true
   },
   "source": [
    "**Your answers**\n",
    "\n",
    "1. Binomial\n",
    "2. Uniform\n",
    "3. Normal (maybe) or Poisson (if looking at across shipments)\n",
    "4. Depends on which distribution we use (w/e we want)\n",
    "5. Normal (Gaussian)"
   ]
  },
  {
   "cell_type": "markdown",
   "metadata": {},
   "source": [
    "## Level Up: SKLearn's Standard Scaler\n",
    "\n",
    "Soon we'll be using a pre-built function to scale our data: https://scikit-learn.org/stable/modules/generated/sklearn.preprocessing.StandardScaler.html\n",
    "\n",
    "Let's go ahead and peek at our first `sklearn` class!"
   ]
  },
  {
   "cell_type": "code",
   "execution_count": 67,
   "metadata": {},
   "outputs": [],
   "source": [
    "# Importing StandardScaler from the preprocessing module\n",
    "from sklearn.preprocessing import StandardScaler\n",
    "\n",
    "# Need to instantiate our scaler\n",
    "scaler = StandardScaler()\n",
    "\n",
    "# Fitting our scaler (note how we need to make the column into a dataframe)\n",
    "scaler.fit(df[['HourlyRate']])\n",
    "\n",
    "# Grabbing the transformed values out as scaled_rate\n",
    "scaled_rate = scaler.transform(df[['HourlyRate']])"
   ]
  },
  {
   "cell_type": "code",
   "execution_count": 68,
   "metadata": {},
   "outputs": [],
   "source": [
    "scaler = StandardScaler()"
   ]
  },
  {
   "cell_type": "code",
   "execution_count": 69,
   "metadata": {},
   "outputs": [
    {
     "data": {
      "text/plain": [
       "sklearn.preprocessing._data.StandardScaler"
      ]
     },
     "execution_count": 69,
     "metadata": {},
     "output_type": "execute_result"
    }
   ],
   "source": [
    "type(scaler)"
   ]
  },
  {
   "cell_type": "code",
   "execution_count": 72,
   "metadata": {},
   "outputs": [
    {
     "data": {
      "text/plain": [
       "StandardScaler()"
      ]
     },
     "execution_count": 72,
     "metadata": {},
     "output_type": "execute_result"
    }
   ],
   "source": [
    "scaler.fit(df[['HourlyRate']])"
   ]
  },
  {
   "cell_type": "code",
   "execution_count": 73,
   "metadata": {},
   "outputs": [
    {
     "data": {
      "text/plain": [
       "array([47.81733114])"
      ]
     },
     "execution_count": 73,
     "metadata": {},
     "output_type": "execute_result"
    }
   ],
   "source": [
    "scaler.mean_"
   ]
  },
  {
   "cell_type": "code",
   "execution_count": 75,
   "metadata": {},
   "outputs": [
    {
     "data": {
      "text/plain": [
       "array([16.72141574])"
      ]
     },
     "execution_count": 75,
     "metadata": {},
     "output_type": "execute_result"
    }
   ],
   "source": [
    "scaler.scale_"
   ]
  },
  {
   "cell_type": "code",
   "execution_count": 76,
   "metadata": {},
   "outputs": [
    {
     "data": {
      "text/plain": [
       "array([[ 0.35419662],\n",
       "       [-0.48066092],\n",
       "       [-1.09843158],\n",
       "       ...,\n",
       "       [-0.85981542],\n",
       "       [-1.02248108],\n",
       "       [-1.09843158]])"
      ]
     },
     "execution_count": 76,
     "metadata": {},
     "output_type": "execute_result"
    }
   ],
   "source": [
    "scaler.transform(df[['HourlyRate']])"
   ]
  },
  {
   "cell_type": "code",
   "execution_count": 78,
   "metadata": {
    "scrolled": false
   },
   "outputs": [
    {
     "data": {
      "image/png": "[encoded data removed]",
      "text/plain": [
       "<Figure size 720x432 with 3 Axes>"
      ]
     },
     "metadata": {
      "needs_background": "light"
     },
     "output_type": "display_data"
    }
   ],
   "source": [
    "# Plot and compare results\n",
    "fig, (ax1, ax2, ax3) = plt.subplots(nrows=3, ncols=1, figsize=(10,6), sharex=True)\n",
    "\n",
    "sns.kdeplot(df['HourlyRate'], ax=ax1, label='Without Scaling')\n",
    "ax1.legend()\n",
    "\n",
    "sns.kdeplot(standardized_rate, ax=ax2, label='Manual Scaling')\n",
    "ax2.legend()\n",
    "\n",
    "sns.kdeplot(scaled_rate[:,0], ax=ax3, label='SKLearn Standard Scaling')\n",
    "ax3.legend()\n",
    "\n",
    "plt.show()"
   ]
  },
  {
   "cell_type": "code",
   "execution_count": 84,
   "metadata": {},
   "outputs": [],
   "source": [
    "heart_df = pd.read_csv('../../Phase1/Lectures/data/heart.csv')"
   ]
  },
  {
   "cell_type": "code",
   "execution_count": 85,
   "metadata": {},
   "outputs": [
    {
     "data": {
      "text/html": [
       "<div>\n",
       "<style scoped>\n",
       "    .dataframe tbody tr th:only-of-type {\n",
       "        vertical-align: middle;\n",
       "    }\n",
       "\n",
       "    .dataframe tbody tr th {\n",
       "        vertical-align: top;\n",
       "    }\n",
       "\n",
       "    .dataframe thead th {\n",
       "        text-align: right;\n",
       "    }\n",
       "</style>\n",
       "<table border=\"1\" class=\"dataframe\">\n",
       "  <thead>\n",
       "    <tr style=\"text-align: right;\">\n",
       "      <th></th>\n",
       "      <th>age</th>\n",
       "      <th>sex</th>\n",
       "      <th>cp</th>\n",
       "      <th>trestbps</th>\n",
       "      <th>chol</th>\n",
       "      <th>fbs</th>\n",
       "      <th>restecg</th>\n",
       "      <th>thalach</th>\n",
       "      <th>exang</th>\n",
       "      <th>oldpeak</th>\n",
       "      <th>slope</th>\n",
       "      <th>ca</th>\n",
       "      <th>thal</th>\n",
       "      <th>target</th>\n",
       "    </tr>\n",
       "  </thead>\n",
       "  <tbody>\n",
       "    <tr>\n",
       "      <th>0</th>\n",
       "      <td>63</td>\n",
       "      <td>1</td>\n",
       "      <td>3</td>\n",
       "      <td>145</td>\n",
       "      <td>233</td>\n",
       "      <td>1</td>\n",
       "      <td>0</td>\n",
       "      <td>150</td>\n",
       "      <td>0</td>\n",
       "      <td>2.3</td>\n",
       "      <td>0</td>\n",
       "      <td>0</td>\n",
       "      <td>1</td>\n",
       "      <td>1</td>\n",
       "    </tr>\n",
       "    <tr>\n",
       "      <th>1</th>\n",
       "      <td>37</td>\n",
       "      <td>1</td>\n",
       "      <td>2</td>\n",
       "      <td>130</td>\n",
       "      <td>250</td>\n",
       "      <td>0</td>\n",
       "      <td>1</td>\n",
       "      <td>187</td>\n",
       "      <td>0</td>\n",
       "      <td>3.5</td>\n",
       "      <td>0</td>\n",
       "      <td>0</td>\n",
       "      <td>2</td>\n",
       "      <td>1</td>\n",
       "    </tr>\n",
       "    <tr>\n",
       "      <th>2</th>\n",
       "      <td>41</td>\n",
       "      <td>0</td>\n",
       "      <td>1</td>\n",
       "      <td>130</td>\n",
       "      <td>204</td>\n",
       "      <td>0</td>\n",
       "      <td>0</td>\n",
       "      <td>172</td>\n",
       "      <td>0</td>\n",
       "      <td>1.4</td>\n",
       "      <td>2</td>\n",
       "      <td>0</td>\n",
       "      <td>2</td>\n",
       "      <td>1</td>\n",
       "    </tr>\n",
       "    <tr>\n",
       "      <th>3</th>\n",
       "      <td>56</td>\n",
       "      <td>1</td>\n",
       "      <td>1</td>\n",
       "      <td>120</td>\n",
       "      <td>236</td>\n",
       "      <td>0</td>\n",
       "      <td>1</td>\n",
       "      <td>178</td>\n",
       "      <td>0</td>\n",
       "      <td>0.8</td>\n",
       "      <td>2</td>\n",
       "      <td>0</td>\n",
       "      <td>2</td>\n",
       "      <td>1</td>\n",
       "    </tr>\n",
       "    <tr>\n",
       "      <th>4</th>\n",
       "      <td>57</td>\n",
       "      <td>0</td>\n",
       "      <td>0</td>\n",
       "      <td>120</td>\n",
       "      <td>354</td>\n",
       "      <td>0</td>\n",
       "      <td>1</td>\n",
       "      <td>163</td>\n",
       "      <td>1</td>\n",
       "      <td>0.6</td>\n",
       "      <td>2</td>\n",
       "      <td>0</td>\n",
       "      <td>2</td>\n",
       "      <td>1</td>\n",
       "    </tr>\n",
       "    <tr>\n",
       "      <th>...</th>\n",
       "      <td>...</td>\n",
       "      <td>...</td>\n",
       "      <td>...</td>\n",
       "      <td>...</td>\n",
       "      <td>...</td>\n",
       "      <td>...</td>\n",
       "      <td>...</td>\n",
       "      <td>...</td>\n",
       "      <td>...</td>\n",
       "      <td>...</td>\n",
       "      <td>...</td>\n",
       "      <td>...</td>\n",
       "      <td>...</td>\n",
       "      <td>...</td>\n",
       "    </tr>\n",
       "    <tr>\n",
       "      <th>298</th>\n",
       "      <td>57</td>\n",
       "      <td>0</td>\n",
       "      <td>0</td>\n",
       "      <td>140</td>\n",
       "      <td>241</td>\n",
       "      <td>0</td>\n",
       "      <td>1</td>\n",
       "      <td>123</td>\n",
       "      <td>1</td>\n",
       "      <td>0.2</td>\n",
       "      <td>1</td>\n",
       "      <td>0</td>\n",
       "      <td>3</td>\n",
       "      <td>0</td>\n",
       "    </tr>\n",
       "    <tr>\n",
       "      <th>299</th>\n",
       "      <td>45</td>\n",
       "      <td>1</td>\n",
       "      <td>3</td>\n",
       "      <td>110</td>\n",
       "      <td>264</td>\n",
       "      <td>0</td>\n",
       "      <td>1</td>\n",
       "      <td>132</td>\n",
       "      <td>0</td>\n",
       "      <td>1.2</td>\n",
       "      <td>1</td>\n",
       "      <td>0</td>\n",
       "      <td>3</td>\n",
       "      <td>0</td>\n",
       "    </tr>\n",
       "    <tr>\n",
       "      <th>300</th>\n",
       "      <td>68</td>\n",
       "      <td>1</td>\n",
       "      <td>0</td>\n",
       "      <td>144</td>\n",
       "      <td>193</td>\n",
       "      <td>1</td>\n",
       "      <td>1</td>\n",
       "      <td>141</td>\n",
       "      <td>0</td>\n",
       "      <td>3.4</td>\n",
       "      <td>1</td>\n",
       "      <td>2</td>\n",
       "      <td>3</td>\n",
       "      <td>0</td>\n",
       "    </tr>\n",
       "    <tr>\n",
       "      <th>301</th>\n",
       "      <td>57</td>\n",
       "      <td>1</td>\n",
       "      <td>0</td>\n",
       "      <td>130</td>\n",
       "      <td>131</td>\n",
       "      <td>0</td>\n",
       "      <td>1</td>\n",
       "      <td>115</td>\n",
       "      <td>1</td>\n",
       "      <td>1.2</td>\n",
       "      <td>1</td>\n",
       "      <td>1</td>\n",
       "      <td>3</td>\n",
       "      <td>0</td>\n",
       "    </tr>\n",
       "    <tr>\n",
       "      <th>302</th>\n",
       "      <td>57</td>\n",
       "      <td>0</td>\n",
       "      <td>1</td>\n",
       "      <td>130</td>\n",
       "      <td>236</td>\n",
       "      <td>0</td>\n",
       "      <td>0</td>\n",
       "      <td>174</td>\n",
       "      <td>0</td>\n",
       "      <td>0.0</td>\n",
       "      <td>1</td>\n",
       "      <td>1</td>\n",
       "      <td>2</td>\n",
       "      <td>0</td>\n",
       "    </tr>\n",
       "  </tbody>\n",
       "</table>\n",
       "<p>303 rows × 14 columns</p>\n",
       "</div>"
      ],
      "text/plain": [
       "     age  sex  cp  trestbps  chol  fbs  restecg  thalach  exang  oldpeak  \\\n",
       "0     63    1   3       145   233    1        0      150      0      2.3   \n",
       "1     37    1   2       130   250    0        1      187      0      3.5   \n",
       "2     41    0   1       130   204    0        0      172      0      1.4   \n",
       "3     56    1   1       120   236    0        1      178      0      0.8   \n",
       "4     57    0   0       120   354    0        1      163      1      0.6   \n",
       "..   ...  ...  ..       ...   ...  ...      ...      ...    ...      ...   \n",
       "298   57    0   0       140   241    0        1      123      1      0.2   \n",
       "299   45    1   3       110   264    0        1      132      0      1.2   \n",
       "300   68    1   0       144   193    1        1      141      0      3.4   \n",
       "301   57    1   0       130   131    0        1      115      1      1.2   \n",
       "302   57    0   1       130   236    0        0      174      0      0.0   \n",
       "\n",
       "     slope  ca  thal  target  \n",
       "0        0   0     1       1  \n",
       "1        0   0     2       1  \n",
       "2        2   0     2       1  \n",
       "3        2   0     2       1  \n",
       "4        2   0     2       1  \n",
       "..     ...  ..   ...     ...  \n",
       "298      1   0     3       0  \n",
       "299      1   0     3       0  \n",
       "300      1   2     3       0  \n",
       "301      1   1     3       0  \n",
       "302      1   1     2       0  \n",
       "\n",
       "[303 rows x 14 columns]"
      ]
     },
     "execution_count": 85,
     "metadata": {},
     "output_type": "execute_result"
    }
   ],
   "source": [
    "heart_df"
   ]
  },
  {
   "cell_type": "code",
   "execution_count": 86,
   "metadata": {},
   "outputs": [],
   "source": [
    "scaler2 = StandardScaler()"
   ]
  },
  {
   "cell_type": "code",
   "execution_count": 87,
   "metadata": {},
   "outputs": [
    {
     "data": {
      "text/plain": [
       "StandardScaler()"
      ]
     },
     "execution_count": 87,
     "metadata": {},
     "output_type": "execute_result"
    }
   ],
   "source": [
    "scaler2.fit(heart_df)"
   ]
  },
  {
   "cell_type": "code",
   "execution_count": 88,
   "metadata": {},
   "outputs": [
    {
     "data": {
      "text/plain": [
       "array([5.43663366e+01, 6.83168317e-01, 9.66996700e-01, 1.31623762e+02,\n",
       "       2.46264026e+02, 1.48514851e-01, 5.28052805e-01, 1.49646865e+02,\n",
       "       3.26732673e-01, 1.03960396e+00, 1.39933993e+00, 7.29372937e-01,\n",
       "       2.31353135e+00, 5.44554455e-01])"
      ]
     },
     "execution_count": 88,
     "metadata": {},
     "output_type": "execute_result"
    }
   ],
   "source": [
    "scaler2.mean_"
   ]
  },
  {
   "cell_type": "code",
   "execution_count": 89,
   "metadata": {},
   "outputs": [
    {
     "data": {
      "text/plain": [
       "array([[ 0.9521966 ,  0.68100522,  1.97312292, ..., -0.71442887,\n",
       "        -2.14887271,  0.91452919],\n",
       "       [-1.91531289,  0.68100522,  1.00257707, ..., -0.71442887,\n",
       "        -0.51292188,  0.91452919],\n",
       "       [-1.47415758, -1.46841752,  0.03203122, ..., -0.71442887,\n",
       "        -0.51292188,  0.91452919],\n",
       "       ...,\n",
       "       [ 1.50364073,  0.68100522, -0.93851463, ...,  1.24459328,\n",
       "         1.12302895, -1.09345881],\n",
       "       [ 0.29046364,  0.68100522, -0.93851463, ...,  0.26508221,\n",
       "         1.12302895, -1.09345881],\n",
       "       [ 0.29046364, -1.46841752,  0.03203122, ...,  0.26508221,\n",
       "        -0.51292188, -1.09345881]])"
      ]
     },
     "execution_count": 89,
     "metadata": {},
     "output_type": "execute_result"
    }
   ],
   "source": [
    "scaler2.transform(heart_df)"
   ]
  },
  {
   "cell_type": "code",
   "execution_count": 93,
   "metadata": {},
   "outputs": [
    {
     "data": {
      "text/html": [
       "<div>\n",
       "<style scoped>\n",
       "    .dataframe tbody tr th:only-of-type {\n",
       "        vertical-align: middle;\n",
       "    }\n",
       "\n",
       "    .dataframe tbody tr th {\n",
       "        vertical-align: top;\n",
       "    }\n",
       "\n",
       "    .dataframe thead th {\n",
       "        text-align: right;\n",
       "    }\n",
       "</style>\n",
       "<table border=\"1\" class=\"dataframe\">\n",
       "  <thead>\n",
       "    <tr style=\"text-align: right;\">\n",
       "      <th></th>\n",
       "      <th>age</th>\n",
       "      <th>sex</th>\n",
       "      <th>cp</th>\n",
       "      <th>trestbps</th>\n",
       "      <th>chol</th>\n",
       "      <th>fbs</th>\n",
       "      <th>restecg</th>\n",
       "      <th>thalach</th>\n",
       "      <th>exang</th>\n",
       "      <th>oldpeak</th>\n",
       "      <th>slope</th>\n",
       "      <th>ca</th>\n",
       "      <th>thal</th>\n",
       "      <th>target</th>\n",
       "    </tr>\n",
       "  </thead>\n",
       "  <tbody>\n",
       "    <tr>\n",
       "      <th>0</th>\n",
       "      <td>0.952197</td>\n",
       "      <td>0.681005</td>\n",
       "      <td>1.973123</td>\n",
       "      <td>0.763956</td>\n",
       "      <td>-0.256334</td>\n",
       "      <td>2.394438</td>\n",
       "      <td>-1.005832</td>\n",
       "      <td>0.015443</td>\n",
       "      <td>-0.696631</td>\n",
       "      <td>1.087338</td>\n",
       "      <td>-2.274579</td>\n",
       "      <td>-0.714429</td>\n",
       "      <td>-2.148873</td>\n",
       "      <td>0.914529</td>\n",
       "    </tr>\n",
       "    <tr>\n",
       "      <th>1</th>\n",
       "      <td>-1.915313</td>\n",
       "      <td>0.681005</td>\n",
       "      <td>1.002577</td>\n",
       "      <td>-0.092738</td>\n",
       "      <td>0.072199</td>\n",
       "      <td>-0.417635</td>\n",
       "      <td>0.898962</td>\n",
       "      <td>1.633471</td>\n",
       "      <td>-0.696631</td>\n",
       "      <td>2.122573</td>\n",
       "      <td>-2.274579</td>\n",
       "      <td>-0.714429</td>\n",
       "      <td>-0.512922</td>\n",
       "      <td>0.914529</td>\n",
       "    </tr>\n",
       "    <tr>\n",
       "      <th>2</th>\n",
       "      <td>-1.474158</td>\n",
       "      <td>-1.468418</td>\n",
       "      <td>0.032031</td>\n",
       "      <td>-0.092738</td>\n",
       "      <td>-0.816773</td>\n",
       "      <td>-0.417635</td>\n",
       "      <td>-1.005832</td>\n",
       "      <td>0.977514</td>\n",
       "      <td>-0.696631</td>\n",
       "      <td>0.310912</td>\n",
       "      <td>0.976352</td>\n",
       "      <td>-0.714429</td>\n",
       "      <td>-0.512922</td>\n",
       "      <td>0.914529</td>\n",
       "    </tr>\n",
       "    <tr>\n",
       "      <th>3</th>\n",
       "      <td>0.180175</td>\n",
       "      <td>0.681005</td>\n",
       "      <td>0.032031</td>\n",
       "      <td>-0.663867</td>\n",
       "      <td>-0.198357</td>\n",
       "      <td>-0.417635</td>\n",
       "      <td>0.898962</td>\n",
       "      <td>1.239897</td>\n",
       "      <td>-0.696631</td>\n",
       "      <td>-0.206705</td>\n",
       "      <td>0.976352</td>\n",
       "      <td>-0.714429</td>\n",
       "      <td>-0.512922</td>\n",
       "      <td>0.914529</td>\n",
       "    </tr>\n",
       "    <tr>\n",
       "      <th>4</th>\n",
       "      <td>0.290464</td>\n",
       "      <td>-1.468418</td>\n",
       "      <td>-0.938515</td>\n",
       "      <td>-0.663867</td>\n",
       "      <td>2.082050</td>\n",
       "      <td>-0.417635</td>\n",
       "      <td>0.898962</td>\n",
       "      <td>0.583939</td>\n",
       "      <td>1.435481</td>\n",
       "      <td>-0.379244</td>\n",
       "      <td>0.976352</td>\n",
       "      <td>-0.714429</td>\n",
       "      <td>-0.512922</td>\n",
       "      <td>0.914529</td>\n",
       "    </tr>\n",
       "    <tr>\n",
       "      <th>...</th>\n",
       "      <td>...</td>\n",
       "      <td>...</td>\n",
       "      <td>...</td>\n",
       "      <td>...</td>\n",
       "      <td>...</td>\n",
       "      <td>...</td>\n",
       "      <td>...</td>\n",
       "      <td>...</td>\n",
       "      <td>...</td>\n",
       "      <td>...</td>\n",
       "      <td>...</td>\n",
       "      <td>...</td>\n",
       "      <td>...</td>\n",
       "      <td>...</td>\n",
       "    </tr>\n",
       "    <tr>\n",
       "      <th>298</th>\n",
       "      <td>0.290464</td>\n",
       "      <td>-1.468418</td>\n",
       "      <td>-0.938515</td>\n",
       "      <td>0.478391</td>\n",
       "      <td>-0.101730</td>\n",
       "      <td>-0.417635</td>\n",
       "      <td>0.898962</td>\n",
       "      <td>-1.165281</td>\n",
       "      <td>1.435481</td>\n",
       "      <td>-0.724323</td>\n",
       "      <td>-0.649113</td>\n",
       "      <td>-0.714429</td>\n",
       "      <td>1.123029</td>\n",
       "      <td>-1.093459</td>\n",
       "    </tr>\n",
       "    <tr>\n",
       "      <th>299</th>\n",
       "      <td>-1.033002</td>\n",
       "      <td>0.681005</td>\n",
       "      <td>1.973123</td>\n",
       "      <td>-1.234996</td>\n",
       "      <td>0.342756</td>\n",
       "      <td>-0.417635</td>\n",
       "      <td>0.898962</td>\n",
       "      <td>-0.771706</td>\n",
       "      <td>-0.696631</td>\n",
       "      <td>0.138373</td>\n",
       "      <td>-0.649113</td>\n",
       "      <td>-0.714429</td>\n",
       "      <td>1.123029</td>\n",
       "      <td>-1.093459</td>\n",
       "    </tr>\n",
       "    <tr>\n",
       "      <th>300</th>\n",
       "      <td>1.503641</td>\n",
       "      <td>0.681005</td>\n",
       "      <td>-0.938515</td>\n",
       "      <td>0.706843</td>\n",
       "      <td>-1.029353</td>\n",
       "      <td>2.394438</td>\n",
       "      <td>0.898962</td>\n",
       "      <td>-0.378132</td>\n",
       "      <td>-0.696631</td>\n",
       "      <td>2.036303</td>\n",
       "      <td>-0.649113</td>\n",
       "      <td>1.244593</td>\n",
       "      <td>1.123029</td>\n",
       "      <td>-1.093459</td>\n",
       "    </tr>\n",
       "    <tr>\n",
       "      <th>301</th>\n",
       "      <td>0.290464</td>\n",
       "      <td>0.681005</td>\n",
       "      <td>-0.938515</td>\n",
       "      <td>-0.092738</td>\n",
       "      <td>-2.227533</td>\n",
       "      <td>-0.417635</td>\n",
       "      <td>0.898962</td>\n",
       "      <td>-1.515125</td>\n",
       "      <td>1.435481</td>\n",
       "      <td>0.138373</td>\n",
       "      <td>-0.649113</td>\n",
       "      <td>0.265082</td>\n",
       "      <td>1.123029</td>\n",
       "      <td>-1.093459</td>\n",
       "    </tr>\n",
       "    <tr>\n",
       "      <th>302</th>\n",
       "      <td>0.290464</td>\n",
       "      <td>-1.468418</td>\n",
       "      <td>0.032031</td>\n",
       "      <td>-0.092738</td>\n",
       "      <td>-0.198357</td>\n",
       "      <td>-0.417635</td>\n",
       "      <td>-1.005832</td>\n",
       "      <td>1.064975</td>\n",
       "      <td>-0.696631</td>\n",
       "      <td>-0.896862</td>\n",
       "      <td>-0.649113</td>\n",
       "      <td>0.265082</td>\n",
       "      <td>-0.512922</td>\n",
       "      <td>-1.093459</td>\n",
       "    </tr>\n",
       "  </tbody>\n",
       "</table>\n",
       "<p>303 rows × 14 columns</p>\n",
       "</div>"
      ],
      "text/plain": [
       "          age       sex        cp  trestbps      chol       fbs   restecg  \\\n",
       "0    0.952197  0.681005  1.973123  0.763956 -0.256334  2.394438 -1.005832   \n",
       "1   -1.915313  0.681005  1.002577 -0.092738  0.072199 -0.417635  0.898962   \n",
       "2   -1.474158 -1.468418  0.032031 -0.092738 -0.816773 -0.417635 -1.005832   \n",
       "3    0.180175  0.681005  0.032031 -0.663867 -0.198357 -0.417635  0.898962   \n",
       "4    0.290464 -1.468418 -0.938515 -0.663867  2.082050 -0.417635  0.898962   \n",
       "..        ...       ...       ...       ...       ...       ...       ...   \n",
       "298  0.290464 -1.468418 -0.938515  0.478391 -0.101730 -0.417635  0.898962   \n",
       "299 -1.033002  0.681005  1.973123 -1.234996  0.342756 -0.417635  0.898962   \n",
       "300  1.503641  0.681005 -0.938515  0.706843 -1.029353  2.394438  0.898962   \n",
       "301  0.290464  0.681005 -0.938515 -0.092738 -2.227533 -0.417635  0.898962   \n",
       "302  0.290464 -1.468418  0.032031 -0.092738 -0.198357 -0.417635 -1.005832   \n",
       "\n",
       "      thalach     exang   oldpeak     slope        ca      thal    target  \n",
       "0    0.015443 -0.696631  1.087338 -2.274579 -0.714429 -2.148873  0.914529  \n",
       "1    1.633471 -0.696631  2.122573 -2.274579 -0.714429 -0.512922  0.914529  \n",
       "2    0.977514 -0.696631  0.310912  0.976352 -0.714429 -0.512922  0.914529  \n",
       "3    1.239897 -0.696631 -0.206705  0.976352 -0.714429 -0.512922  0.914529  \n",
       "4    0.583939  1.435481 -0.379244  0.976352 -0.714429 -0.512922  0.914529  \n",
       "..        ...       ...       ...       ...       ...       ...       ...  \n",
       "298 -1.165281  1.435481 -0.724323 -0.649113 -0.714429  1.123029 -1.093459  \n",
       "299 -0.771706 -0.696631  0.138373 -0.649113 -0.714429  1.123029 -1.093459  \n",
       "300 -0.378132 -0.696631  2.036303 -0.649113  1.244593  1.123029 -1.093459  \n",
       "301 -1.515125  1.435481  0.138373 -0.649113  0.265082  1.123029 -1.093459  \n",
       "302  1.064975 -0.696631 -0.896862 -0.649113  0.265082 -0.512922 -1.093459  \n",
       "\n",
       "[303 rows x 14 columns]"
      ]
     },
     "execution_count": 93,
     "metadata": {},
     "output_type": "execute_result"
    }
   ],
   "source": [
    "pd.DataFrame(scaler2.transform(heart_df), columns=heart_df.columns)"
   ]
  },
  {
   "cell_type": "code",
   "execution_count": null,
   "metadata": {},
   "outputs": [],
   "source": []
  }
 ],
 "metadata": {
  "kernelspec": {
   "display_name": "Python (learn-env)",
   "language": "python",
   "name": "learn-env"
  },
  "language_info": {
   "codemirror_mode": {
    "name": "ipython",
    "version": 3
   },
   "file_extension": ".py",
   "mimetype": "text/x-python",
   "name": "python",
   "nbconvert_exporter": "python",
   "pygments_lexer": "ipython3",
   "version": "3.8.5"
  },
  "toc": {
   "base_numbering": 1,
   "nav_menu": {},
   "number_sections": true,
   "sideBar": true,
   "skip_h1_title": false,
   "title_cell": "Table of Contents",
   "title_sidebar": "TOC",
   "toc_cell": true,
   "toc_position": {
    "height": "calc(100% - 180px)",
    "left": "10px",
    "top": "150px",
    "width": "380.25px"
   },
   "toc_section_display": true,
   "toc_window_display": true
  }
 },
 "nbformat": 4,
 "nbformat_minor": 4
}
